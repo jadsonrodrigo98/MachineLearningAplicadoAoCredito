{
 "cells": [
  {
   "cell_type": "markdown",
   "metadata": {},
   "source": [
    "# Machine learning para prever se uma pessoa tem um bom ou mau risco de crédito"
   ]
  },
  {
   "cell_type": "markdown",
   "metadata": {},
   "source": [
    "# Introdução "
   ]
  },
  {
   "cell_type": "markdown",
   "metadata": {},
   "source": [
    "Nos dias atuais,tecnologia e finanças vem andando cada vez mais juntos,com inúmeras aplicações da tecnologia em instituições financeiras . Uma das aplicações que se destaca ,em especial em bancos e instituições financeiras , é  o credit score,que tem como objetivo determinar se uma pessoas possui ou não perfil para adquirir crédito . Para construir o credit score,é utilizado desde técnicas de Machine Learning à Análise Estatística . Neste projeto,será construido modelos de Machine Learning para verificar se uma pessoa possui um \"bom\" ou \"mal\" risco de crédito,sendo que o conjunto de dados utilizado será \"german_credit_data.csv\",que contém informações de empréstimo de um banco alemão . Pode-se então conhecer de uma maneira mais completa esse conjunto de dados . \n"
   ]
  },
  {
   "cell_type": "markdown",
   "metadata": {},
   "source": [
    "# Dicionário dos dados "
   ]
  },
  {
   "cell_type": "markdown",
   "metadata": {},
   "source": [
    "**Age**=Idade do solicitante do empréstimo \n",
    "\n",
    "**Sex** = Sexo do solicitante do empréstimo,(Variável Categórica - Nos níveis \"Male\"(Masculino) e \"female\"(Feminino)\n",
    "\n",
    "**Job** = Tipo de emprego que o solicitante possui,(Variável Categórica - Nos níveis  \"0 - unskilled(Não qualificado) e non-resident(Não residente)\",\"1 - unskilled(Qualificado) and resident(Residente)\",\" 2 - skilled(Especializada)\",\" 3 - highly skilled(Altamente especializada)\")\n",
    "\n",
    "**Housing** = Tipo de casa em que o solicitante mora ,(Variável Categórica - nos níveis own (Própria), rent(Aluguel), or free(Gratuita))\n",
    "\n",
    "**Saving accounts** = Contas salvas(Variável Cetegórica - little(Pequena), moderate(Moderada), quite rich(Muito rico), rich(Rico))\n",
    "\n",
    "**Checking account** = Conta corrente do solicitante \n",
    "\n",
    "**Credit amount** = Quantidade de crédito \n",
    "\n",
    "**Duration**= Duração do empréstimo em meses\n",
    "\n",
    "**Purpose** = Propóposito do empréstimo (Variável Categórica - car(Carro),furniture/equipment(Móveis/Equipamentos), r\n",
    "adio/TV, domestic appliances(Eletrodomésticos), repairs(Reparos), education(Educação), business(Negócios), vacation/others(Férias))"
   ]
  },
  {
   "cell_type": "markdown",
   "metadata": {},
   "source": [
    "Pode-se observar as colunas que o banco de dados contém observando as 5 primeiras linhas,e também o número de colunas e linhas que o banco de dados possui : "
   ]
  },
  {
   "cell_type": "code",
   "execution_count": 119,
   "metadata": {},
   "outputs": [
    {
     "data": {
      "text/html": [
       "<div>\n",
       "<style scoped>\n",
       "    .dataframe tbody tr th:only-of-type {\n",
       "        vertical-align: middle;\n",
       "    }\n",
       "\n",
       "    .dataframe tbody tr th {\n",
       "        vertical-align: top;\n",
       "    }\n",
       "\n",
       "    .dataframe thead th {\n",
       "        text-align: right;\n",
       "    }\n",
       "</style>\n",
       "<table border=\"1\" class=\"dataframe\">\n",
       "  <thead>\n",
       "    <tr style=\"text-align: right;\">\n",
       "      <th></th>\n",
       "      <th>Unnamed: 0</th>\n",
       "      <th>Age</th>\n",
       "      <th>Sex</th>\n",
       "      <th>Job</th>\n",
       "      <th>Housing</th>\n",
       "      <th>Saving accounts</th>\n",
       "      <th>Checking account</th>\n",
       "      <th>Credit amount</th>\n",
       "      <th>Duration</th>\n",
       "      <th>Purpose</th>\n",
       "      <th>Risk</th>\n",
       "    </tr>\n",
       "  </thead>\n",
       "  <tbody>\n",
       "    <tr>\n",
       "      <th>0</th>\n",
       "      <td>0</td>\n",
       "      <td>67</td>\n",
       "      <td>male</td>\n",
       "      <td>2</td>\n",
       "      <td>own</td>\n",
       "      <td>NaN</td>\n",
       "      <td>little</td>\n",
       "      <td>1169</td>\n",
       "      <td>6</td>\n",
       "      <td>radio/TV</td>\n",
       "      <td>good</td>\n",
       "    </tr>\n",
       "    <tr>\n",
       "      <th>1</th>\n",
       "      <td>1</td>\n",
       "      <td>22</td>\n",
       "      <td>female</td>\n",
       "      <td>2</td>\n",
       "      <td>own</td>\n",
       "      <td>little</td>\n",
       "      <td>moderate</td>\n",
       "      <td>5951</td>\n",
       "      <td>48</td>\n",
       "      <td>radio/TV</td>\n",
       "      <td>bad</td>\n",
       "    </tr>\n",
       "    <tr>\n",
       "      <th>2</th>\n",
       "      <td>2</td>\n",
       "      <td>49</td>\n",
       "      <td>male</td>\n",
       "      <td>1</td>\n",
       "      <td>own</td>\n",
       "      <td>little</td>\n",
       "      <td>NaN</td>\n",
       "      <td>2096</td>\n",
       "      <td>12</td>\n",
       "      <td>education</td>\n",
       "      <td>good</td>\n",
       "    </tr>\n",
       "    <tr>\n",
       "      <th>3</th>\n",
       "      <td>3</td>\n",
       "      <td>45</td>\n",
       "      <td>male</td>\n",
       "      <td>2</td>\n",
       "      <td>free</td>\n",
       "      <td>little</td>\n",
       "      <td>little</td>\n",
       "      <td>7882</td>\n",
       "      <td>42</td>\n",
       "      <td>furniture/equipment</td>\n",
       "      <td>good</td>\n",
       "    </tr>\n",
       "    <tr>\n",
       "      <th>4</th>\n",
       "      <td>4</td>\n",
       "      <td>53</td>\n",
       "      <td>male</td>\n",
       "      <td>2</td>\n",
       "      <td>free</td>\n",
       "      <td>little</td>\n",
       "      <td>little</td>\n",
       "      <td>4870</td>\n",
       "      <td>24</td>\n",
       "      <td>car</td>\n",
       "      <td>bad</td>\n",
       "    </tr>\n",
       "  </tbody>\n",
       "</table>\n",
       "</div>"
      ],
      "text/plain": [
       "   Unnamed: 0  Age     Sex  Job Housing Saving accounts Checking account  \\\n",
       "0           0   67    male    2     own             NaN           little   \n",
       "1           1   22  female    2     own          little         moderate   \n",
       "2           2   49    male    1     own          little              NaN   \n",
       "3           3   45    male    2    free          little           little   \n",
       "4           4   53    male    2    free          little           little   \n",
       "\n",
       "   Credit amount  Duration              Purpose  Risk  \n",
       "0           1169         6             radio/TV  good  \n",
       "1           5951        48             radio/TV   bad  \n",
       "2           2096        12            education  good  \n",
       "3           7882        42  furniture/equipment  good  \n",
       "4           4870        24                  car   bad  "
      ]
     },
     "execution_count": 119,
     "metadata": {},
     "output_type": "execute_result"
    }
   ],
   "source": [
    "#Importação das bibliotecas a serem utilizadas \n",
    "import numpy as np\n",
    "import pandas as pd\n",
    "import seaborn as sns\n",
    "from sklearn.preprocessing import LabelEncoder\n",
    "import matplotlib.pyplot as plt\n",
    "dados=pd.read_csv(\"german_credit_data.csv\")\n",
    "dados.head()"
   ]
  },
  {
   "cell_type": "code",
   "execution_count": 120,
   "metadata": {},
   "outputs": [
    {
     "data": {
      "text/plain": [
       "(1000, 11)"
      ]
     },
     "execution_count": 120,
     "metadata": {},
     "output_type": "execute_result"
    }
   ],
   "source": [
    "dados.shape"
   ]
  },
  {
   "cell_type": "markdown",
   "metadata": {},
   "source": [
    "Pode-se observar que o banco de dados é composto por 1000 linhas,e 11 colunas . Porém ,  a coluna \"Unnamed: 0\" não é significante para a análise, pois ela contém o id da observação, logo não traz nenhuma informação relevante,podendo ser retirada dos dados . "
   ]
  },
  {
   "cell_type": "markdown",
   "metadata": {},
   "source": [
    "# Pré processamento dos dados e limpeza dos dados "
   ]
  },
  {
   "cell_type": "code",
   "execution_count": 121,
   "metadata": {},
   "outputs": [],
   "source": [
    "dados.drop(columns=[\"Unnamed: 0\"],inplace=True)"
   ]
  },
  {
   "cell_type": "markdown",
   "metadata": {},
   "source": [
    "Agora, pode-se conhecer em que tipo o Pandas trata cada variável do conjunto de dados,e verificar se o tratamento está adequado : "
   ]
  },
  {
   "cell_type": "code",
   "execution_count": 122,
   "metadata": {},
   "outputs": [
    {
     "data": {
      "text/plain": [
       "Age                  int64\n",
       "Sex                 object\n",
       "Job                  int64\n",
       "Housing             object\n",
       "Saving accounts     object\n",
       "Checking account    object\n",
       "Credit amount        int64\n",
       "Duration             int64\n",
       "Purpose             object\n",
       "Risk                object\n",
       "dtype: object"
      ]
     },
     "execution_count": 122,
     "metadata": {},
     "output_type": "execute_result"
    }
   ],
   "source": [
    "dados.dtypes "
   ]
  },
  {
   "cell_type": "markdown",
   "metadata": {},
   "source": [
    "É possivel concluir que o tratamento dado a cada variável está correto . Outro fator relevante antes de fazer uma análise estatistica é verificar se o conjunto de dados contém valores ausentes : "
   ]
  },
  {
   "cell_type": "code",
   "execution_count": 123,
   "metadata": {},
   "outputs": [
    {
     "data": {
      "text/plain": [
       "Age                  0.0\n",
       "Sex                  0.0\n",
       "Job                  0.0\n",
       "Housing              0.0\n",
       "Saving accounts     18.3\n",
       "Checking account    39.4\n",
       "Credit amount        0.0\n",
       "Duration             0.0\n",
       "Purpose              0.0\n",
       "Risk                 0.0\n",
       "dtype: float64"
      ]
     },
     "execution_count": 123,
     "metadata": {},
     "output_type": "execute_result"
    }
   ],
   "source": [
    "dados.isnull().sum()/len(dados)*100"
   ]
  },
  {
   "cell_type": "markdown",
   "metadata": {},
   "source": [
    "É possivel verificar que a variável \"Saving accounts\" é composta de 18.3% das observações de  valores ausentes ,enquanto que a variável \"Checking Account\" possui 39.4%  . Logo,pode-se observar quais os valores mais frequentes nessas colunas,e então tomar uma decisão para substituir os valores ausentes , tal como, substituir pelo valor mais frequente, remover linhas que contém Na, etc . Sendo que a decisão a ser tomada deve ser analisada caso a caso . "
   ]
  },
  {
   "cell_type": "code",
   "execution_count": 124,
   "metadata": {},
   "outputs": [
    {
     "data": {
      "text/plain": [
       "little        603\n",
       "moderate      103\n",
       "quite rich     63\n",
       "rich           48\n",
       "Name: Saving accounts, dtype: int64"
      ]
     },
     "execution_count": 124,
     "metadata": {},
     "output_type": "execute_result"
    }
   ],
   "source": [
    "dados[\"Saving accounts\"].value_counts()"
   ]
  },
  {
   "cell_type": "code",
   "execution_count": 125,
   "metadata": {},
   "outputs": [
    {
     "data": {
      "text/plain": [
       "little      274\n",
       "moderate    269\n",
       "rich         63\n",
       "Name: Checking account, dtype: int64"
      ]
     },
     "execution_count": 125,
     "metadata": {},
     "output_type": "execute_result"
    }
   ],
   "source": [
    "dados[\"Checking account\"].value_counts()"
   ]
  },
  {
   "cell_type": "markdown",
   "metadata": {},
   "source": [
    "Para a coluna \"Checking account\" foi obtido que existe um equilibrio entre a resposta \"litte\" e \"moderate\",logo não há um valor que diferencia dos demais , logo uma estratégia que pode ser utilizada para os valores ausentes é  tratar as observações ausentes da coluna como um nível de resposta,e substitui-los pelo valor \"Não Informado\" . Enquanto que na variável \"Saving accounts\" cerca de 60% das observações são little , logo uma possível estratégia é substituir os valores ausentes dessa coluna por \"little\" ."
   ]
  },
  {
   "cell_type": "code",
   "execution_count": 126,
   "metadata": {},
   "outputs": [],
   "source": [
    "dados[\"Saving accounts\"].fillna(\"little\",inplace=True)\n",
    "dados[\"Checking account\"].fillna(\"Não informado\",inplace=True)"
   ]
  },
  {
   "cell_type": "markdown",
   "metadata": {},
   "source": [
    "# Análise exploratória"
   ]
  },
  {
   "cell_type": "markdown",
   "metadata": {},
   "source": [
    "Após tratar os valores ausentes, é interessante conhecer quantas observações possuem risco alto e risco baixo a partir de um gráfico  : "
   ]
  },
  {
   "cell_type": "code",
   "execution_count": 127,
   "metadata": {},
   "outputs": [
    {
     "data": {
      "text/plain": [
       "<matplotlib.axes._subplots.AxesSubplot at 0x2307d676608>"
      ]
     },
     "execution_count": 127,
     "metadata": {},
     "output_type": "execute_result"
    },
    {
     "data": {
      "image/png": "[encoded data removed]",
      "text/plain": [
       "<Figure size 432x288 with 1 Axes>"
      ]
     },
     "metadata": {
      "needs_background": "light"
     },
     "output_type": "display_data"
    }
   ],
   "source": [
    "sns.countplot(dados[\"Risk\"])"
   ]
  },
  {
   "cell_type": "markdown",
   "metadata": {},
   "source": [
    "Ao se analisar o gráfico, pode-se observar que o número de observações que possui um risco considerado bom é de 70%  das observações, o que indica que a maior parte dos pagadores tem um bom nível de chance de pagar o crédito . Pode-se então conhecer as medidas sumárias , e as distribuição dos dados das variáveis quantitativas do Dataset  : "
   ]
  },
  {
   "cell_type": "code",
   "execution_count": 128,
   "metadata": {},
   "outputs": [
    {
     "data": {
      "text/html": [
       "<div>\n",
       "<style scoped>\n",
       "    .dataframe tbody tr th:only-of-type {\n",
       "        vertical-align: middle;\n",
       "    }\n",
       "\n",
       "    .dataframe tbody tr th {\n",
       "        vertical-align: top;\n",
       "    }\n",
       "\n",
       "    .dataframe thead th {\n",
       "        text-align: right;\n",
       "    }\n",
       "</style>\n",
       "<table border=\"1\" class=\"dataframe\">\n",
       "  <thead>\n",
       "    <tr style=\"text-align: right;\">\n",
       "      <th></th>\n",
       "      <th>Age</th>\n",
       "      <th>Credit amount</th>\n",
       "      <th>Duration</th>\n",
       "    </tr>\n",
       "  </thead>\n",
       "  <tbody>\n",
       "    <tr>\n",
       "      <th>count</th>\n",
       "      <td>1000.000000</td>\n",
       "      <td>1000.000000</td>\n",
       "      <td>1000.000000</td>\n",
       "    </tr>\n",
       "    <tr>\n",
       "      <th>mean</th>\n",
       "      <td>35.546000</td>\n",
       "      <td>3271.258000</td>\n",
       "      <td>20.903000</td>\n",
       "    </tr>\n",
       "    <tr>\n",
       "      <th>std</th>\n",
       "      <td>11.375469</td>\n",
       "      <td>2822.736876</td>\n",
       "      <td>12.058814</td>\n",
       "    </tr>\n",
       "    <tr>\n",
       "      <th>min</th>\n",
       "      <td>19.000000</td>\n",
       "      <td>250.000000</td>\n",
       "      <td>4.000000</td>\n",
       "    </tr>\n",
       "    <tr>\n",
       "      <th>25%</th>\n",
       "      <td>27.000000</td>\n",
       "      <td>1365.500000</td>\n",
       "      <td>12.000000</td>\n",
       "    </tr>\n",
       "    <tr>\n",
       "      <th>50%</th>\n",
       "      <td>33.000000</td>\n",
       "      <td>2319.500000</td>\n",
       "      <td>18.000000</td>\n",
       "    </tr>\n",
       "    <tr>\n",
       "      <th>75%</th>\n",
       "      <td>42.000000</td>\n",
       "      <td>3972.250000</td>\n",
       "      <td>24.000000</td>\n",
       "    </tr>\n",
       "    <tr>\n",
       "      <th>max</th>\n",
       "      <td>75.000000</td>\n",
       "      <td>18424.000000</td>\n",
       "      <td>72.000000</td>\n",
       "    </tr>\n",
       "  </tbody>\n",
       "</table>\n",
       "</div>"
      ],
      "text/plain": [
       "               Age  Credit amount     Duration\n",
       "count  1000.000000    1000.000000  1000.000000\n",
       "mean     35.546000    3271.258000    20.903000\n",
       "std      11.375469    2822.736876    12.058814\n",
       "min      19.000000     250.000000     4.000000\n",
       "25%      27.000000    1365.500000    12.000000\n",
       "50%      33.000000    2319.500000    18.000000\n",
       "75%      42.000000    3972.250000    24.000000\n",
       "max      75.000000   18424.000000    72.000000"
      ]
     },
     "execution_count": 128,
     "metadata": {},
     "output_type": "execute_result"
    }
   ],
   "source": [
    "dados[[\"Age\",\"Credit amount\",\"Duration\"]].describe()"
   ]
  },
  {
   "cell_type": "code",
   "execution_count": 129,
   "metadata": {},
   "outputs": [
    {
     "data": {
      "text/plain": [
       "<matplotlib.axes._subplots.AxesSubplot at 0x2307dba1d48>"
      ]
     },
     "execution_count": 129,
     "metadata": {},
     "output_type": "execute_result"
    },
    {
     "data": {
      "image/png": "[encoded data removed]",
      "text/plain": [
       "<Figure size 1296x432 with 3 Axes>"
      ]
     },
     "metadata": {
      "needs_background": "light"
     },
     "output_type": "display_data"
    }
   ],
   "source": [
    "fig,(axis1,axis2,axis3)=plt.subplots(1,3,figsize=(18,6))\n",
    "sns.boxplot(dados[\"Age\"],ax=axis1)\n",
    "sns.boxplot(dados[\"Credit amount\"],ax=axis2)\n",
    "sns.boxplot(dados[\"Duration\"],ax=axis3)"
   ]
  },
  {
   "cell_type": "code",
   "execution_count": 130,
   "metadata": {},
   "outputs": [
    {
     "name": "stderr",
     "output_type": "stream",
     "text": [
      "C:\\Users\\j2184\\anaconda3\\lib\\site-packages\\pandas\\plotting\\_matplotlib\\tools.py:298: MatplotlibDeprecationWarning: \n",
      "The rowNum attribute was deprecated in Matplotlib 3.2 and will be removed two minor releases later. Use ax.get_subplotspec().rowspan.start instead.\n",
      "  layout[ax.rowNum, ax.colNum] = ax.get_visible()\n",
      "C:\\Users\\j2184\\anaconda3\\lib\\site-packages\\pandas\\plotting\\_matplotlib\\tools.py:298: MatplotlibDeprecationWarning: \n",
      "The colNum attribute was deprecated in Matplotlib 3.2 and will be removed two minor releases later. Use ax.get_subplotspec().colspan.start instead.\n",
      "  layout[ax.rowNum, ax.colNum] = ax.get_visible()\n",
      "C:\\Users\\j2184\\anaconda3\\lib\\site-packages\\pandas\\plotting\\_matplotlib\\tools.py:304: MatplotlibDeprecationWarning: \n",
      "The rowNum attribute was deprecated in Matplotlib 3.2 and will be removed two minor releases later. Use ax.get_subplotspec().rowspan.start instead.\n",
      "  if not layout[ax.rowNum + 1, ax.colNum]:\n",
      "C:\\Users\\j2184\\anaconda3\\lib\\site-packages\\pandas\\plotting\\_matplotlib\\tools.py:304: MatplotlibDeprecationWarning: \n",
      "The colNum attribute was deprecated in Matplotlib 3.2 and will be removed two minor releases later. Use ax.get_subplotspec().colspan.start instead.\n",
      "  if not layout[ax.rowNum + 1, ax.colNum]:\n"
     ]
    },
    {
     "data": {
      "image/png": "[encoded data removed]",
      "text/plain": [
       "<Figure size 864x576 with 4 Axes>"
      ]
     },
     "metadata": {
      "needs_background": "light"
     },
     "output_type": "display_data"
    }
   ],
   "source": [
    "dados[[\"Age\",\"Credit amount\",\"Duration\"]].hist(figsize=(12,8));"
   ]
  },
  {
   "cell_type": "markdown",
   "metadata": {},
   "source": [
    "Das distribuições,pode-se notar que nenhuma variável quantitativa aparenta possuir uma distribuição normal . Enquanto que do boxplot é possível observar que há algumas observações outlier nas três variáveis quantitativas, porém como os valores são possíveis,isto é,não existe,por exemplo,idade maior do 200 , pode-se deixar esses valores outliers no conjunto de dados . \n",
    "\n",
    "Então,pode-se conhecer a média dessas variáveis quantitativas de acordo com o risco de crédito . "
   ]
  },
  {
   "cell_type": "code",
   "execution_count": 131,
   "metadata": {},
   "outputs": [
    {
     "data": {
      "text/plain": [
       "Text(0.5, 1.0, 'Média da quantidade de crédito de acordo com o tipo de risco')"
      ]
     },
     "execution_count": 131,
     "metadata": {},
     "output_type": "execute_result"
    },
    {
     "data": {
      "image/png": "[encoded data removed]",
      "text/plain": [
       "<Figure size 1440x576 with 3 Axes>"
      ]
     },
     "metadata": {
      "needs_background": "light"
     },
     "output_type": "display_data"
    }
   ],
   "source": [
    "fig,(axis1,axis2,axis3)=plt.subplots(1,3,figsize=(20,8))\n",
    "axis1.bar(dados.groupby(\"Risk\")[\"Age\"].mean().index,dados.groupby(\"Risk\")[\"Job\"].mean().values)\n",
    "axis1.set_title(\"Média de idade de acordo com o tipo de risco\")\n",
    "axis2.bar(dados.groupby(\"Risk\")[\"Duration\"].mean().index,dados.groupby(\"Risk\")[\"Duration\"].mean().values)\n",
    "axis2.set_title(\"Média de duração do empréstimo de acordo com o tipo de risco\")\n",
    "axis3.bar(dados.groupby(\"Risk\")[\"Credit amount\"].mean().index,dados.groupby(\"Risk\")[\"Credit amount\"].mean().values)\n",
    "axis3.set_title(\"Média da quantidade de crédito de acordo com o tipo de risco\")\n"
   ]
  },
  {
   "cell_type": "markdown",
   "metadata": {},
   "source": [
    "Aparentemente , não há uma relação considerável entre o Risco associado e a variável referente a idade . Porém, para as variáveis relacionadas a duração do empréstimo,e quantidade de crédito existe uma diferença , pois a média dessas variáveis aparenta ser maior quando o tipo de crédito é ruim . Logo,pode-se interpretar da seguinte forma , quando o risco é ruim o tempo de duração do empréstimo costumava ser mais alto do que quando o risco é baixo . Já para a variável Credit Amount ,quando o risco é baixo, a quantidade de crédito solicitada é maior em média do que quando o risco é bom . \n",
    "\n",
    "Então,é possível conhecer as porcentagens de pessoas que pessoas que tem histórico bom de acordo com as variáveis qualitativas \"Sex\",\"Housing\",\"Checking account\",\"Saving accounts\" através de um gráfico . "
   ]
  },
  {
   "cell_type": "code",
   "execution_count": 132,
   "metadata": {},
   "outputs": [],
   "source": [
    "from sklearn.preprocessing import LabelEncoder"
   ]
  },
  {
   "cell_type": "code",
   "execution_count": 133,
   "metadata": {},
   "outputs": [],
   "source": [
    "labelencoder=LabelEncoder()\n",
    "dados.iloc[:,9]=labelencoder.fit_transform(dados.iloc[:,9])\n"
   ]
  },
  {
   "cell_type": "code",
   "execution_count": 134,
   "metadata": {},
   "outputs": [
    {
     "data": {
      "text/plain": [
       "<matplotlib.axes._subplots.AxesSubplot at 0x2307e141108>"
      ]
     },
     "execution_count": 134,
     "metadata": {},
     "output_type": "execute_result"
    },
    {
     "data": {
      "image/png": "[encoded data removed]",
      "text/plain": [
       "<Figure size 864x432 with 2 Axes>"
      ]
     },
     "metadata": {
      "needs_background": "light"
     },
     "output_type": "display_data"
    },
    {
     "data": {
      "image/png": "[encoded data removed]",
      "text/plain": [
       "<Figure size 864x432 with 2 Axes>"
      ]
     },
     "metadata": {
      "needs_background": "light"
     },
     "output_type": "display_data"
    }
   ],
   "source": [
    "fig,(axis1,axis2)=plt.subplots(1,2,figsize=(12,6))\n",
    "sns.barplot(dados[\"Sex\"],y=dados[\"Risk\"],ax=axis1)\n",
    "sns.barplot(x=dados[\"Housing\"],y=dados[\"Risk\"],ax=axis2)\n",
    "fig,(axis1,axis2)=plt.subplots(1,2,figsize=(12,6))\n",
    "sns.barplot(x=dados[\"Saving accounts\"],y=dados[\"Risk\"],ax=axis1)\n",
    "sns.barplot(dados[\"Checking account\"],y=dados[\"Risk\"],ax=axis2)\n",
    "\n"
   ]
  },
  {
   "cell_type": "markdown",
   "metadata": {},
   "source": [
    "Ao observar o gráfico de risco dado por sexo,é possivel concluir que pessoas do sexo masculino aparentam possuir um histórico de crédito levemente melhor do que pessoas do sexo feminino,embora a diferença não seja tão grande . Ao se analisar o risco dado pelo tipo de casa, pode-se observar que pessoas que possuiem casa própria apresenta um risco menor, enquanto quem mora de graça apresenta um risco maior . Já a variável relacionada a contas salvas , pessoas com contas dadas como ricas tem um histórico melhor . Pode-se realizar uma análise semelhante para as variáveis \"Purpose\" e \"Job\" . "
   ]
  },
  {
   "cell_type": "code",
   "execution_count": 135,
   "metadata": {},
   "outputs": [
    {
     "data": {
      "text/plain": [
       "<matplotlib.axes._subplots.AxesSubplot at 0x2307e180a88>"
      ]
     },
     "execution_count": 135,
     "metadata": {},
     "output_type": "execute_result"
    },
    {
     "data": {
      "image/png": "[encoded data removed]",
      "text/plain": [
       "<Figure size 720x576 with 1 Axes>"
      ]
     },
     "metadata": {
      "needs_background": "light"
     },
     "output_type": "display_data"
    }
   ],
   "source": [
    "plt.figure(figsize=(10,8))\n",
    "sns.barplot(x=dados[\"Job\"],y=dados[\"Risk\"])"
   ]
  },
  {
   "cell_type": "code",
   "execution_count": 136,
   "metadata": {},
   "outputs": [
    {
     "data": {
      "text/plain": [
       "<matplotlib.axes._subplots.AxesSubplot at 0x2307e48edc8>"
      ]
     },
     "execution_count": 136,
     "metadata": {},
     "output_type": "execute_result"
    },
    {
     "data": {
      "image/png": "[encoded data removed]",
      "text/plain": [
       "<Figure size 864x576 with 1 Axes>"
      ]
     },
     "metadata": {
      "needs_background": "light"
     },
     "output_type": "display_data"
    }
   ],
   "source": [
    "plt.figure(figsize=(12,8))\n",
    "sns.barplot(x=dados[\"Purpose\"],y=dados[\"Risk\"])"
   ]
  },
  {
   "cell_type": "markdown",
   "metadata": {},
   "source": [
    "Ao verificar o gráfico relacionado ao Job(emprego), pode-se notar que a taxa de risco bom é semelhante para os 4 tipos de job . Já analisando o gráfico de risco dado por propósito ,é possivel observar que a resposta que possui a maior porcentagem de risco bom é quando a resposta é radio/Tv , já a menor porcentagem de risco de crédito bom é \"Vacation/Others\" relacionada a pedir empréstimo para sair de férias . \n"
   ]
  },
  {
   "cell_type": "markdown",
   "metadata": {},
   "source": [
    "# Construção dos modelos de machine learning \n"
   ]
  },
  {
   "cell_type": "markdown",
   "metadata": {},
   "source": [
    "Por fim,após a análise exploratória,é possivel construir os modelos Machine Learning para classificar o risco de crédito . Após a construção dos algoritmos para prever o risco, será utilizada a técnica da validação cruzada para se calcular a média da acurácia do algoritimo,onde será utilizda um cv de 5 . "
   ]
  },
  {
   "cell_type": "code",
   "execution_count": 137,
   "metadata": {},
   "outputs": [],
   "source": [
    "#Construção de listas para armazenar as acurácias dos modelos e a lista dos algortimos \n",
    "listaalgoritmos=[]\n",
    "listaacuracia=[]"
   ]
  },
  {
   "cell_type": "code",
   "execution_count": 138,
   "metadata": {},
   "outputs": [],
   "source": [
    "x=dados.iloc[:,0:9].values\n",
    "y=dados.iloc[:,9].values \n"
   ]
  },
  {
   "cell_type": "code",
   "execution_count": 139,
   "metadata": {},
   "outputs": [],
   "source": [
    "labelencoder=LabelEncoder()\n",
    "#Codificando s variáveis qualitativas com números \n",
    "#Sexo = 1 se masculino,0 se feminino\n",
    "#Housing=1 se própria ,0 se free ,2 se aluguel\n",
    "#Saving account =0 se little,1 se moderate,2 se quite rich ,3 se rich \n",
    "#Checking account = 1 se little,2 se moderate,0 se não informado,3 se rich \n",
    "#Purpose= 5 se Radio/Tv,3 se Education,4 se furniture/equipment,1 se car,0 se business \n",
    "x[:,1]=labelencoder.fit_transform(x[:,1])\n",
    "x[:,3]=labelencoder.fit_transform(x[:,3])\n",
    "x[:,4]=labelencoder.fit_transform(x[:,4])\n",
    "x[:,5]=labelencoder.fit_transform(x[:,5])\n",
    "x[:,8]=labelencoder.fit_transform(x[:,7])"
   ]
  },
  {
   "cell_type": "code",
   "execution_count": 140,
   "metadata": {},
   "outputs": [],
   "source": [
    "from sklearn.compose import ColumnTransformer\n",
    "from sklearn.preprocessing import OneHotEncoder\n",
    "from sklearn.naive_bayes import GaussianNB\n",
    "from sklearn.model_selection import cross_val_score"
   ]
  },
  {
   "cell_type": "code",
   "execution_count": 141,
   "metadata": {},
   "outputs": [],
   "source": [
    "column_transformer = ColumnTransformer([('one_hot_encoder', OneHotEncoder(), [1,2,3,4,5,8])],remainder='passthrough')"
   ]
  },
  {
   "cell_type": "code",
   "execution_count": 142,
   "metadata": {},
   "outputs": [],
   "source": [
    "x=column_transformer.fit_transform(x).toarray()"
   ]
  },
  {
   "cell_type": "code",
   "execution_count": 143,
   "metadata": {},
   "outputs": [],
   "source": [
    "#Construção do modelo Naive Bayes \n",
    "modelonaive=GaussianNB()\n",
    "acuracia=cross_val_score(modelonaive,x,y,cv=5,scoring=\"accuracy\")\n",
    "listaacuracia.append(acuracia.mean())\n",
    "listaalgoritmos.append(\"Naive Bayes\")"
   ]
  },
  {
   "cell_type": "code",
   "execution_count": 144,
   "metadata": {},
   "outputs": [],
   "source": [
    "from sklearn.linear_model import LogisticRegression"
   ]
  },
  {
   "cell_type": "code",
   "execution_count": 145,
   "metadata": {},
   "outputs": [],
   "source": [
    "modeloregressao=LogisticRegression(solver=\"lbfgs\",max_iter=1000)\n"
   ]
  },
  {
   "cell_type": "code",
   "execution_count": 146,
   "metadata": {},
   "outputs": [],
   "source": [
    "acuracia=cross_val_score(modeloregressao,x,y,cv=5,scoring=\"accuracy\")\n",
    "listaacuracia.append(acuracia.mean())\n",
    "listaalgoritmos.append(\"Regressão Logistica\")"
   ]
  },
  {
   "cell_type": "code",
   "execution_count": 147,
   "metadata": {},
   "outputs": [],
   "source": [
    "from sklearn.ensemble import RandomForestClassifier "
   ]
  },
  {
   "cell_type": "code",
   "execution_count": 148,
   "metadata": {},
   "outputs": [],
   "source": [
    "modelorandomforest=RandomForestClassifier(n_estimators=40,criterion=\"entropy\")"
   ]
  },
  {
   "cell_type": "code",
   "execution_count": 149,
   "metadata": {},
   "outputs": [],
   "source": [
    "#Construção do modelo Random Forest \n",
    "acuracia=cross_val_score(modelorandomforest,x,y,cv=5,scoring=\"accuracy\")\n",
    "listaacuracia.append(acuracia.mean())\n",
    "listaalgoritmos.append(\"Random Forest\")"
   ]
  },
  {
   "cell_type": "code",
   "execution_count": 150,
   "metadata": {},
   "outputs": [],
   "source": [
    "from sklearn.tree import DecisionTreeClassifier"
   ]
  },
  {
   "cell_type": "code",
   "execution_count": 151,
   "metadata": {},
   "outputs": [],
   "source": [
    "modeloarvore=DecisionTreeClassifier(criterion=\"entropy\")"
   ]
  },
  {
   "cell_type": "code",
   "execution_count": 152,
   "metadata": {},
   "outputs": [],
   "source": [
    "#Construção do modelo Árvore de Decisão \n",
    "acuracia=cross_val_score(modeloarvore,x,y,cv=5,scoring=\"accuracy\")\n",
    "listaacuracia.append(acuracia.mean())\n",
    "listaalgoritmos.append(\"Árvore de Decisão\")"
   ]
  },
  {
   "cell_type": "code",
   "execution_count": 153,
   "metadata": {},
   "outputs": [],
   "source": [
    "from sklearn.svm import SVC"
   ]
  },
  {
   "cell_type": "code",
   "execution_count": 154,
   "metadata": {},
   "outputs": [],
   "source": [
    "#Construção do modelo SVM\n",
    "modelosvm=SVC(kernel=\"linear\")\n",
    "listaacuracia.append(acuracia.mean())\n",
    "listaalgoritmos.append(\"SVM\")"
   ]
  },
  {
   "cell_type": "code",
   "execution_count": 155,
   "metadata": {},
   "outputs": [],
   "source": [
    "from sklearn.preprocessing import StandardScaler"
   ]
  },
  {
   "cell_type": "code",
   "execution_count": 156,
   "metadata": {},
   "outputs": [],
   "source": [
    "standardscaler=StandardScaler()\n",
    "x=standardscaler.fit_transform(x)"
   ]
  },
  {
   "cell_type": "code",
   "execution_count": 157,
   "metadata": {},
   "outputs": [],
   "source": [
    "from sklearn.neighbors import KNeighborsClassifier "
   ]
  },
  {
   "cell_type": "code",
   "execution_count": 158,
   "metadata": {},
   "outputs": [],
   "source": [
    "#Construção do modelo KNN\n",
    "modeloknn=KNeighborsClassifier(n_neighbors=60)\n",
    "acuracia=cross_val_score(modeloknn,x,y,cv=5,scoring=\"accuracy\")\n",
    "listaacuracia.append(acuracia.mean())\n",
    "listaalgoritmos.append(\"KNN\")"
   ]
  },
  {
   "cell_type": "code",
   "execution_count": 159,
   "metadata": {},
   "outputs": [],
   "source": [
    "dadosresultados=pd.DataFrame()\n",
    "dadosresultados[\"Algoritmo\"]=listaalgoritmos\n",
    "dadosresultados[\"Acurácia\"]=listaacuracia\n"
   ]
  },
  {
   "cell_type": "markdown",
   "metadata": {},
   "source": [
    "Então,pode-se conhecer a acurácia média dos algoritmos por meio de uma tabela ."
   ]
  },
  {
   "cell_type": "code",
   "execution_count": 160,
   "metadata": {},
   "outputs": [
    {
     "data": {
      "text/html": [
       "<div>\n",
       "<style scoped>\n",
       "    .dataframe tbody tr th:only-of-type {\n",
       "        vertical-align: middle;\n",
       "    }\n",
       "\n",
       "    .dataframe tbody tr th {\n",
       "        vertical-align: top;\n",
       "    }\n",
       "\n",
       "    .dataframe thead th {\n",
       "        text-align: right;\n",
       "    }\n",
       "</style>\n",
       "<table border=\"1\" class=\"dataframe\">\n",
       "  <thead>\n",
       "    <tr style=\"text-align: right;\">\n",
       "      <th></th>\n",
       "      <th>Algoritmo</th>\n",
       "      <th>Acurácia</th>\n",
       "    </tr>\n",
       "  </thead>\n",
       "  <tbody>\n",
       "    <tr>\n",
       "      <th>1</th>\n",
       "      <td>Regressão Logistica</td>\n",
       "      <td>0.732</td>\n",
       "    </tr>\n",
       "    <tr>\n",
       "      <th>5</th>\n",
       "      <td>KNN</td>\n",
       "      <td>0.724</td>\n",
       "    </tr>\n",
       "    <tr>\n",
       "      <th>2</th>\n",
       "      <td>Random Forest</td>\n",
       "      <td>0.723</td>\n",
       "    </tr>\n",
       "    <tr>\n",
       "      <th>3</th>\n",
       "      <td>Árvore de Decisão</td>\n",
       "      <td>0.670</td>\n",
       "    </tr>\n",
       "    <tr>\n",
       "      <th>4</th>\n",
       "      <td>SVM</td>\n",
       "      <td>0.670</td>\n",
       "    </tr>\n",
       "    <tr>\n",
       "      <th>0</th>\n",
       "      <td>Naive Bayes</td>\n",
       "      <td>0.641</td>\n",
       "    </tr>\n",
       "  </tbody>\n",
       "</table>\n",
       "</div>"
      ],
      "text/plain": [
       "             Algoritmo  Acurácia\n",
       "1  Regressão Logistica     0.732\n",
       "5                  KNN     0.724\n",
       "2        Random Forest     0.723\n",
       "3    Árvore de Decisão     0.670\n",
       "4                  SVM     0.670\n",
       "0          Naive Bayes     0.641"
      ]
     },
     "execution_count": 160,
     "metadata": {},
     "output_type": "execute_result"
    }
   ],
   "source": [
    "dadosresultados=dadosresultados.sort_values(by=\"Acurácia\",ascending=False)\n",
    "dadosresultados"
   ]
  },
  {
   "cell_type": "markdown",
   "metadata": {},
   "source": [
    "Ao se observar a tabela pode-se verificar que o algoritmo que teve uma melhor acurácia média para classificar se um pessoa tem um bom ou mau risco de crédito foi Regressão Logistica ,e o menor foi Naive Bayes  .   "
   ]
  },
  {
   "cell_type": "code",
   "execution_count": 161,
   "metadata": {},
   "outputs": [
    {
     "data": {
      "text/plain": [
       "Text(0.5, 1.0, 'Acurácia média de acordo com o algoritmo')"
      ]
     },
     "execution_count": 161,
     "metadata": {},
     "output_type": "execute_result"
    },
    {
     "data": {
      "image/png": "[encoded data removed]",
      "text/plain": [
       "<Figure size 864x576 with 1 Axes>"
      ]
     },
     "metadata": {
      "needs_background": "light"
     },
     "output_type": "display_data"
    }
   ],
   "source": [
    "plt.figure(figsize=(12,8))\n",
    "plt.bar(dadosresultados[\"Algoritmo\"],dadosresultados[\"Acurácia\"])\n",
    "plt.xlabel(\"Algoritmo\")\n",
    "plt.ylabel(\"Acurácia Média\")\n",
    "plt.title(\"Acurácia média de acordo com o algoritmo\")"
   ]
  },
  {
   "cell_type": "markdown",
   "metadata": {},
   "source": [
    "O algoritmo que apresentou o melhor resultado foi Regressão Logistica ,enquanto o que apresentou o segundo melhor resultado foi KNN . Porém,não pode-se definir qual dos foi melhor levando-se em consideração apenas a acurácia ,deve-se levar em consideração . Então é construido agora um matriz para verificar qual possui o melhor resultado levando-se em consideração outras métricas de avaliação . "
   ]
  },
  {
   "cell_type": "code",
   "execution_count": 162,
   "metadata": {},
   "outputs": [],
   "source": [
    "from sklearn.metrics import classification_report\n",
    "from sklearn.model_selection import train_test_split\n",
    "from sklearn.metrics import accuracy_score,confusion_matrix\n"
   ]
  },
  {
   "cell_type": "code",
   "execution_count": 163,
   "metadata": {},
   "outputs": [],
   "source": [
    "x_treino,x_teste,y_treino,y_teste=train_test_split(x,y,test_size=0.3)"
   ]
  },
  {
   "cell_type": "code",
   "execution_count": 164,
   "metadata": {},
   "outputs": [
    {
     "name": "stdout",
     "output_type": "stream",
     "text": [
      "              precision    recall  f1-score   support\n",
      "\n",
      "           0       0.58      0.41      0.48        90\n",
      "           1       0.78      0.87      0.82       210\n",
      "\n",
      "    accuracy                           0.73       300\n",
      "   macro avg       0.68      0.64      0.65       300\n",
      "weighted avg       0.72      0.73      0.72       300\n",
      "\n"
     ]
    }
   ],
   "source": [
    "modeloregressaologistica=LogisticRegression(solver=\"lbfgs\",max_iter=1000)\n",
    "modeloregressaologistica.fit(x_treino,y_treino)\n",
    "resultadoregressao=modeloregressaologistica.predict(x_teste)\n",
    "print(classification_report(y_teste,resultadoregressao))"
   ]
  },
  {
   "cell_type": "code",
   "execution_count": 165,
   "metadata": {},
   "outputs": [
    {
     "name": "stdout",
     "output_type": "stream",
     "text": [
      "              precision    recall  f1-score   support\n",
      "\n",
      "           0       0.76      0.21      0.33        90\n",
      "           1       0.74      0.97      0.84       210\n",
      "\n",
      "    accuracy                           0.74       300\n",
      "   macro avg       0.75      0.59      0.59       300\n",
      "weighted avg       0.75      0.74      0.69       300\n",
      "\n"
     ]
    }
   ],
   "source": [
    "xtreino=standardscaler.fit_transform(x)\n",
    "xteste=standardscaler.fit_transform(x)\n",
    "modeloknn=KNeighborsClassifier(n_neighbors=60)\n",
    "modeloknn.fit(x,y)\n",
    "resultadoknn=modeloknn.predict(x_teste)\n",
    "print(classification_report(y_teste,resultadoknn))"
   ]
  },
  {
   "cell_type": "markdown",
   "metadata": {},
   "source": [
    "As duas principais métricas dessa matriz que podem ser utilizadas, além da acurácia,são Precisão e Recall . A métrica escolhida será a precisão ,pois acredita-se que para uma instituição seja mais prejudicial um falso positivo do que um falso negativo,pois dessa forma a instituição não irá perder dinheiro . Ao observar a precisão da matriz de Regressão Logistica ,pode-se observar que a Precisão é de 0.78,que é maior do que a precisão de 0.74 do algoritmo KNN . \n",
    "\n",
    "Portanto,após estas análises ,pode-se observar que o melhor algoritmo para classificar um risco de crédito é a Regressão Logistica . "
   ]
  }
 ],
 "metadata": {
  "kernelspec": {
   "display_name": "Python 3",
   "language": "python",
   "name": "python3"
  },
  "language_info": {
   "codemirror_mode": {
    "name": "ipython",
    "version": 3
   },
   "file_extension": ".py",
   "mimetype": "text/x-python",
   "name": "python",
   "nbconvert_exporter": "python",
   "pygments_lexer": "ipython3",
   "version": "3.7.6"
  }
 },
 "nbformat": 4,
 "nbformat_minor": 4
}
